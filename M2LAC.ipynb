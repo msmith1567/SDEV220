{
 "cells": [
  {
   "cell_type": "code",
   "execution_count": null,
   "id": "37a06225-7c1d-4723-983d-35758efc56d4",
   "metadata": {},
   "outputs": [],
   "source": [
    "### 4.1 Secret Number Game\n",
    "In this section, we will choose a secret number and a guess, and check their relationship using conditional statements."
   ]
  },
  {
   "cell_type": "code",
   "execution_count": 10,
   "id": "4226d4bc-9d7a-4c7a-91ba-7cc7a8f81b3d",
   "metadata": {},
   "outputs": [
    {
     "name": "stdout",
     "output_type": "stream",
     "text": [
      "too low\n"
     ]
    }
   ],
   "source": [
    "# Assign values\n",
    "secret = 7  # Secret number\n",
    "guess = 5    # Guess number\n",
    "\n",
    "# Conditional tests\n",
    "if guess < secret:\n",
    "    print('too low')\n",
    "elif guess > secret:\n",
    "    print('too high')\n",
    "else:\n",
    "    print('just right')"
   ]
  },
  {
   "cell_type": "code",
   "execution_count": null,
   "id": "63489c2d-c7e4-4a06-a008-0dcaac03d72f",
   "metadata": {},
   "outputs": [],
   "source": [
    "### 4.2 Fruit Type Based on Variables\n",
    "In this section, we will determine the type of fruit based on the boolean values of small and green."
   ]
  },
  {
   "cell_type": "code",
   "execution_count": 14,
   "id": "f60da3eb-34b4-4b1d-8aa6-28dc6fa49adf",
   "metadata": {},
   "outputs": [
    {
     "name": "stdout",
     "output_type": "stream",
     "text": [
      "pea\n"
     ]
    }
   ],
   "source": [
    "# Assign boolean values\n",
    "small = True  # Change to True for small fruit\n",
    "green = False  # Change to False for a non-green fruit\n",
    "\n",
    "# If/else statements\n",
    "if small and green:\n",
    "    print(\"cherry\")\n",
    "elif small and not green:\n",
    "    print(\"pea\")\n",
    "elif not small and green:\n",
    "    print(\"watermelon\")\n",
    "else:  # not small and not green\n",
    "    print(\"pumpkin\")"
   ]
  },
  {
   "cell_type": "code",
   "execution_count": null,
   "id": "e8a5b8fc-8630-449e-b893-6f3d15045e2a",
   "metadata": {},
   "outputs": [],
   "source": [
    "### 6.1 Print Values from a List\n",
    "This section demonstrates how to print values from a list using a for loop."
   ]
  },
  {
   "cell_type": "code",
   "execution_count": 18,
   "id": "a8f05a4a-bed4-4d69-9317-77231973fe40",
   "metadata": {},
   "outputs": [
    {
     "name": "stdout",
     "output_type": "stream",
     "text": [
      "3\n",
      "2\n",
      "1\n",
      "0\n"
     ]
    }
   ],
   "source": [
    "# Print values using a for loop\n",
    "for value in [3, 2, 1, 0]:\n",
    "    print(value)"
   ]
  },
  {
   "cell_type": "code",
   "execution_count": null,
   "id": "40f2e129-bf44-4a68-a2c0-45fa7a8272b9",
   "metadata": {},
   "outputs": [],
   "source": [
    "### 6.2 While Loop with Guessing Game\n",
    "In this section, we will implement a while loop that compares a number with a guess."
   ]
  },
  {
   "cell_type": "code",
   "execution_count": 20,
   "id": "4a227d16-ba45-4d94-ac91-82f84e44c085",
   "metadata": {},
   "outputs": [
    {
     "name": "stdout",
     "output_type": "stream",
     "text": [
      "too low\n",
      "too low\n",
      "too low\n",
      "too low\n",
      "too low\n",
      "too low\n",
      "found it!\n"
     ]
    }
   ],
   "source": [
    "# Assign values\n",
    "guess_me = 7\n",
    "number = 1\n",
    "\n",
    "# While loop\n",
    "while number < guess_me:\n",
    "    print('too low')\n",
    "    number += 1  # Increment number\n",
    "\n",
    "if number == guess_me:\n",
    "    print('found it!')\n",
    "elif number > guess_me:\n",
    "    print('oops')"
   ]
  },
  {
   "cell_type": "code",
   "execution_count": null,
   "id": "c16cc4f6-c09a-4009-a6c1-a91f470a86d1",
   "metadata": {},
   "outputs": [],
   "source": [
    "### 6.3 For Loop with Guessing Game\n",
    "In this section, we will use a for loop to iterate over a range of numbers and compare them to a guess."
   ]
  },
  {
   "cell_type": "code",
   "execution_count": 22,
   "id": "3ebd59c5-bb2d-4b9d-b8ee-ce3da7bcdba5",
   "metadata": {},
   "outputs": [
    {
     "name": "stdout",
     "output_type": "stream",
     "text": [
      "too low\n",
      "too low\n",
      "too low\n",
      "too low\n",
      "too low\n",
      "found it!\n"
     ]
    }
   ],
   "source": [
    "# Assign value to guess_me\n",
    "guess_me = 5\n",
    "\n",
    "# For loop\n",
    "for number in range(10):\n",
    "    if number < guess_me:\n",
    "        print('too low')\n",
    "    elif number == guess_me:\n",
    "        print('found it!')\n",
    "        break  # Exit the loop\n",
    "    else:  # number > guess_me\n",
    "        print('oops')\n",
    "        break  # Exit the loop"
   ]
  },
  {
   "cell_type": "code",
   "execution_count": null,
   "id": "19eb7ad7-fd6e-4dd3-8798-5d4f58fdcdfe",
   "metadata": {},
   "outputs": [],
   "source": []
  }
 ],
 "metadata": {
  "kernelspec": {
   "display_name": "Python 3 (ipykernel)",
   "language": "python",
   "name": "python3"
  },
  "language_info": {
   "codemirror_mode": {
    "name": "ipython",
    "version": 3
   },
   "file_extension": ".py",
   "mimetype": "text/x-python",
   "name": "python",
   "nbconvert_exporter": "python",
   "pygments_lexer": "ipython3",
   "version": "3.12.7"
  }
 },
 "nbformat": 4,
 "nbformat_minor": 5
}
