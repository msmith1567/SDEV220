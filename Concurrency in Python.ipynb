{
 "cells": [
  {
   "cell_type": "code",
   "execution_count": 10,
   "id": "9816f950-598f-4584-be5e-40344a0a336b",
   "metadata": {},
   "outputs": [],
   "source": [
    "import datetime\n",
    "\n",
    "# Write the current date as a string to the text file today.txt\n",
    "current_date = datetime.datetime.now().strftime('%Y-%m-%d %H:%M:%S')\n",
    "with open('today.txt', 'w') as file:\n",
    "    file.write(current_date)"
   ]
  },
  {
   "cell_type": "code",
   "execution_count": 12,
   "id": "1ea1653d-3c49-4d82-bf84-824314db3e31",
   "metadata": {},
   "outputs": [
    {
     "data": {
      "text/plain": [
       "'2024-12-01 20:12:06'"
      ]
     },
     "execution_count": 12,
     "metadata": {},
     "output_type": "execute_result"
    }
   ],
   "source": [
    "# Read the text file today.txt into the string today_string\n",
    "with open('today.txt', 'r') as file:\n",
    "    today_string = file.read()\n",
    "\n",
    "# Display the content of today_string\n",
    "today_string"
   ]
  },
  {
   "cell_type": "code",
   "execution_count": 14,
   "id": "fed0307c-5d01-4c6e-ba25-ac222d1a15de",
   "metadata": {},
   "outputs": [
    {
     "data": {
      "text/plain": [
       "datetime.datetime(2024, 12, 1, 20, 12, 6)"
      ]
     },
     "execution_count": 14,
     "metadata": {},
     "output_type": "execute_result"
    }
   ],
   "source": [
    "# Parse the date from today_string\n",
    "parsed_date = datetime.datetime.strptime(today_string, '%Y-%m-%d %H:%M:%S')\n",
    "\n",
    "# Display the parsed date\n",
    "parsed_date"
   ]
  },
  {
   "cell_type": "code",
   "execution_count": 23,
   "id": "06828272-d05f-43ba-b50c-726de8f872b9",
   "metadata": {},
   "outputs": [],
   "source": [
    "import multiprocessing\n",
    "import random\n",
    "import time\n",
    "\n",
    "# Function to simulate a random wait time\n",
    "def random_wait_process():\n",
    "    wait_time = random.uniform(0, 1)  # Random wait time between 0 and 1 seconds\n",
    "    time.sleep(wait_time)\n",
    "    print(f\"Current time: {datetime.datetime.now()}\")\n",
    "\n",
    "# Create and start three processes\n",
    "processes = []\n",
    "for _ in range(3):\n",
    "    process = multiprocessing.Process(target=random_wait_process)\n",
    "    processes.append(process)\n",
    "    process.start()\n",
    "\n",
    "# Wait for all processes to finish\n",
    "for process in processes:\n",
    "    process.join()"
   ]
  }
 ],
 "metadata": {
  "kernelspec": {
   "display_name": "Python 3 (ipykernel)",
   "language": "python",
   "name": "python3"
  },
  "language_info": {
   "codemirror_mode": {
    "name": "ipython",
    "version": 3
   },
   "file_extension": ".py",
   "mimetype": "text/x-python",
   "name": "python",
   "nbconvert_exporter": "python",
   "pygments_lexer": "ipython3",
   "version": "3.12.7"
  }
 },
 "nbformat": 4,
 "nbformat_minor": 5
}
