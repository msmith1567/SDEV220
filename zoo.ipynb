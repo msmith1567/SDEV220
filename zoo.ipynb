{
 "cells": [
  {
   "cell_type": "code",
   "execution_count": 8,
   "id": "6530960a-8903-4723-8731-eb158a51eeaa",
   "metadata": {},
   "outputs": [],
   "source": [
    "def hours():\n",
    "    print('Open 9-5 daily')"
   ]
  },
  {
   "cell_type": "code",
   "execution_count": null,
   "id": "6302a7af-b0a6-4936-8e77-2b23253c3a30",
   "metadata": {},
   "outputs": [],
   "source": [
    ">>> import zoo\n",
    ">>> zoo.hours()\n",
    "Open 9-5 daily"
   ]
  },
  {
   "cell_type": "code",
   "execution_count": null,
   "id": "36c04ac4-e2f1-4f57-86e9-151a5e2d6642",
   "metadata": {},
   "outputs": [],
   "source": [
    ">>> import zoo as menagerie\n",
    ">>> menagerie.hours()\n",
    "Open 9-5 daily"
   ]
  }
 ],
 "metadata": {
  "kernelspec": {
   "display_name": "Python 3 (ipykernel)",
   "language": "python",
   "name": "python3"
  },
  "language_info": {
   "codemirror_mode": {
    "name": "ipython",
    "version": 3
   },
   "file_extension": ".py",
   "mimetype": "text/x-python",
   "name": "python",
   "nbconvert_exporter": "python",
   "pygments_lexer": "ipython3",
   "version": "3.12.7"
  }
 },
 "nbformat": 4,
 "nbformat_minor": 5
}
